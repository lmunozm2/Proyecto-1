{
 "cells": [
  {
   "cell_type": "code",
   "execution_count": 2,
   "metadata": {},
   "outputs": [
    {
     "name": "stdout",
     "output_type": "stream",
     "text": [
      "<bound method NDFrame.head of            date   quarter  department        day  team  targeted_productivity  \\\n",
      "0      1/1/2015  Quarter1      sweing   Thursday     8                   0.80   \n",
      "1      1/1/2015  Quarter1  finishing    Thursday     1                   0.75   \n",
      "2      1/1/2015  Quarter1      sweing   Thursday    11                   0.80   \n",
      "3      1/1/2015  Quarter1      sweing   Thursday    12                   0.80   \n",
      "4      1/1/2015  Quarter1      sweing   Thursday     6                   0.80   \n",
      "...         ...       ...         ...        ...   ...                    ...   \n",
      "1192  3/11/2015  Quarter2   finishing  Wednesday    10                   0.75   \n",
      "1193  3/11/2015  Quarter2   finishing  Wednesday     8                   0.70   \n",
      "1194  3/11/2015  Quarter2   finishing  Wednesday     7                   0.65   \n",
      "1195  3/11/2015  Quarter2   finishing  Wednesday     9                   0.75   \n",
      "1196  3/11/2015  Quarter2   finishing  Wednesday     6                   0.70   \n",
      "\n",
      "        smv     wip  over_time  incentive  idle_time  idle_men  \\\n",
      "0     26.16  1108.0       7080         98        0.0         0   \n",
      "1      3.94     NaN        960          0        0.0         0   \n",
      "2     11.41   968.0       3660         50        0.0         0   \n",
      "3     11.41   968.0       3660         50        0.0         0   \n",
      "4     25.90  1170.0       1920         50        0.0         0   \n",
      "...     ...     ...        ...        ...        ...       ...   \n",
      "1192   2.90     NaN        960          0        0.0         0   \n",
      "1193   3.90     NaN        960          0        0.0         0   \n",
      "1194   3.90     NaN        960          0        0.0         0   \n",
      "1195   2.90     NaN       1800          0        0.0         0   \n",
      "1196   2.90     NaN        720          0        0.0         0   \n",
      "\n",
      "      no_of_style_change  no_of_workers  actual_productivity  \n",
      "0                      0           59.0             0.940725  \n",
      "1                      0            8.0             0.886500  \n",
      "2                      0           30.5             0.800570  \n",
      "3                      0           30.5             0.800570  \n",
      "4                      0           56.0             0.800382  \n",
      "...                  ...            ...                  ...  \n",
      "1192                   0            8.0             0.628333  \n",
      "1193                   0            8.0             0.625625  \n",
      "1194                   0            8.0             0.625625  \n",
      "1195                   0           15.0             0.505889  \n",
      "1196                   0            6.0             0.394722  \n",
      "\n",
      "[1197 rows x 15 columns]>\n"
     ]
    },
    {
     "name": "stderr",
     "output_type": "stream",
     "text": [
      "C:\\Users\\LORE\\AppData\\Local\\Temp\\ipykernel_11540\\3167126062.py:1: DeprecationWarning: \n",
      "Pyarrow will become a required dependency of pandas in the next major release of pandas (pandas 3.0),\n",
      "(to allow more performant data types, such as the Arrow string type, and better interoperability with other libraries)\n",
      "but was not found to be installed on your system.\n",
      "If this would cause problems for you,\n",
      "please provide us feedback at https://github.com/pandas-dev/pandas/issues/54466\n",
      "        \n",
      "  import pandas as pd\n"
     ]
    }
   ],
   "source": [
    "import pandas as pd\n",
    "datos = pd.read_csv(\"data.txt\", delimiter=\",\")\n",
    "print(datos.head)"
   ]
  },
  {
   "cell_type": "code",
   "execution_count": 3,
   "metadata": {},
   "outputs": [
    {
     "data": {
      "text/plain": [
       "date                      object\n",
       "quarter                   object\n",
       "department                object\n",
       "day                       object\n",
       "team                       int64\n",
       "targeted_productivity    float64\n",
       "smv                      float64\n",
       "wip                      float64\n",
       "over_time                  int64\n",
       "incentive                  int64\n",
       "idle_time                float64\n",
       "idle_men                   int64\n",
       "no_of_style_change         int64\n",
       "no_of_workers            float64\n",
       "actual_productivity      float64\n",
       "dtype: object"
      ]
     },
     "execution_count": 3,
     "metadata": {},
     "output_type": "execute_result"
    }
   ],
   "source": [
    "#Información \n",
    "datos.dtypes"
   ]
  },
  {
   "cell_type": "code",
   "execution_count": 4,
   "metadata": {},
   "outputs": [
    {
     "name": "stdout",
     "output_type": "stream",
     "text": [
      "date                     1.000000\n",
      "quarter                  1.000000\n",
      "department               1.000000\n",
      "day                      1.000000\n",
      "team                     1.000000\n",
      "targeted_productivity    1.000000\n",
      "smv                      1.000000\n",
      "wip                      0.577277\n",
      "over_time                1.000000\n",
      "incentive                1.000000\n",
      "idle_time                1.000000\n",
      "idle_men                 1.000000\n",
      "no_of_style_change       1.000000\n",
      "no_of_workers            1.000000\n",
      "actual_productivity      1.000000\n",
      "dtype: float64\n"
     ]
    }
   ],
   "source": [
    "#Mirar los valores faltantes \n",
    "print(datos.notnull().mean())\n"
   ]
  },
  {
   "cell_type": "code",
   "execution_count": 5,
   "metadata": {},
   "outputs": [],
   "source": [
    "#Llenar eso datos c\n",
    "datos.loc[datos['wip'].isnull(),'wip'] = datos.describe()['wip']['mean']"
   ]
  },
  {
   "cell_type": "code",
   "execution_count": 6,
   "metadata": {},
   "outputs": [
    {
     "name": "stdout",
     "output_type": "stream",
     "text": [
      "date                     1.0\n",
      "quarter                  1.0\n",
      "department               1.0\n",
      "day                      1.0\n",
      "team                     1.0\n",
      "targeted_productivity    1.0\n",
      "smv                      1.0\n",
      "wip                      1.0\n",
      "over_time                1.0\n",
      "incentive                1.0\n",
      "idle_time                1.0\n",
      "idle_men                 1.0\n",
      "no_of_style_change       1.0\n",
      "no_of_workers            1.0\n",
      "actual_productivity      1.0\n",
      "dtype: float64\n"
     ]
    }
   ],
   "source": [
    "#Comprobar que se llenaron los datos\n",
    "print(datos.notnull().mean())"
   ]
  },
  {
   "cell_type": "code",
   "execution_count": 7,
   "metadata": {},
   "outputs": [
    {
     "data": {
      "text/html": [
       "<div>\n",
       "<style scoped>\n",
       "    .dataframe tbody tr th:only-of-type {\n",
       "        vertical-align: middle;\n",
       "    }\n",
       "\n",
       "    .dataframe tbody tr th {\n",
       "        vertical-align: top;\n",
       "    }\n",
       "\n",
       "    .dataframe thead th {\n",
       "        text-align: right;\n",
       "    }\n",
       "</style>\n",
       "<table border=\"1\" class=\"dataframe\">\n",
       "  <thead>\n",
       "    <tr style=\"text-align: right;\">\n",
       "      <th></th>\n",
       "      <th>team</th>\n",
       "      <th>targeted_productivity</th>\n",
       "      <th>smv</th>\n",
       "      <th>wip</th>\n",
       "      <th>over_time</th>\n",
       "      <th>incentive</th>\n",
       "      <th>idle_time</th>\n",
       "      <th>idle_men</th>\n",
       "      <th>no_of_style_change</th>\n",
       "      <th>no_of_workers</th>\n",
       "      <th>actual_productivity</th>\n",
       "    </tr>\n",
       "  </thead>\n",
       "  <tbody>\n",
       "    <tr>\n",
       "      <th>count</th>\n",
       "      <td>1197.000000</td>\n",
       "      <td>1197.000000</td>\n",
       "      <td>1197.000000</td>\n",
       "      <td>1197.000000</td>\n",
       "      <td>1197.000000</td>\n",
       "      <td>1197.000000</td>\n",
       "      <td>1197.000000</td>\n",
       "      <td>1197.000000</td>\n",
       "      <td>1197.000000</td>\n",
       "      <td>1197.000000</td>\n",
       "      <td>1197.000000</td>\n",
       "    </tr>\n",
       "    <tr>\n",
       "      <th>mean</th>\n",
       "      <td>6.426901</td>\n",
       "      <td>0.729632</td>\n",
       "      <td>15.062172</td>\n",
       "      <td>1190.465991</td>\n",
       "      <td>4567.460317</td>\n",
       "      <td>38.210526</td>\n",
       "      <td>0.730159</td>\n",
       "      <td>0.369256</td>\n",
       "      <td>0.150376</td>\n",
       "      <td>34.609858</td>\n",
       "      <td>0.735091</td>\n",
       "    </tr>\n",
       "    <tr>\n",
       "      <th>std</th>\n",
       "      <td>3.463963</td>\n",
       "      <td>0.097891</td>\n",
       "      <td>10.943219</td>\n",
       "      <td>1395.647261</td>\n",
       "      <td>3348.823563</td>\n",
       "      <td>160.182643</td>\n",
       "      <td>12.709757</td>\n",
       "      <td>3.268987</td>\n",
       "      <td>0.427848</td>\n",
       "      <td>22.197687</td>\n",
       "      <td>0.174488</td>\n",
       "    </tr>\n",
       "    <tr>\n",
       "      <th>min</th>\n",
       "      <td>1.000000</td>\n",
       "      <td>0.070000</td>\n",
       "      <td>2.900000</td>\n",
       "      <td>7.000000</td>\n",
       "      <td>0.000000</td>\n",
       "      <td>0.000000</td>\n",
       "      <td>0.000000</td>\n",
       "      <td>0.000000</td>\n",
       "      <td>0.000000</td>\n",
       "      <td>2.000000</td>\n",
       "      <td>0.233705</td>\n",
       "    </tr>\n",
       "    <tr>\n",
       "      <th>25%</th>\n",
       "      <td>3.000000</td>\n",
       "      <td>0.700000</td>\n",
       "      <td>3.940000</td>\n",
       "      <td>970.000000</td>\n",
       "      <td>1440.000000</td>\n",
       "      <td>0.000000</td>\n",
       "      <td>0.000000</td>\n",
       "      <td>0.000000</td>\n",
       "      <td>0.000000</td>\n",
       "      <td>9.000000</td>\n",
       "      <td>0.650307</td>\n",
       "    </tr>\n",
       "    <tr>\n",
       "      <th>50%</th>\n",
       "      <td>6.000000</td>\n",
       "      <td>0.750000</td>\n",
       "      <td>15.260000</td>\n",
       "      <td>1190.465991</td>\n",
       "      <td>3960.000000</td>\n",
       "      <td>0.000000</td>\n",
       "      <td>0.000000</td>\n",
       "      <td>0.000000</td>\n",
       "      <td>0.000000</td>\n",
       "      <td>34.000000</td>\n",
       "      <td>0.773333</td>\n",
       "    </tr>\n",
       "    <tr>\n",
       "      <th>75%</th>\n",
       "      <td>9.000000</td>\n",
       "      <td>0.800000</td>\n",
       "      <td>24.260000</td>\n",
       "      <td>1190.465991</td>\n",
       "      <td>6960.000000</td>\n",
       "      <td>50.000000</td>\n",
       "      <td>0.000000</td>\n",
       "      <td>0.000000</td>\n",
       "      <td>0.000000</td>\n",
       "      <td>57.000000</td>\n",
       "      <td>0.850253</td>\n",
       "    </tr>\n",
       "    <tr>\n",
       "      <th>max</th>\n",
       "      <td>12.000000</td>\n",
       "      <td>0.800000</td>\n",
       "      <td>54.560000</td>\n",
       "      <td>23122.000000</td>\n",
       "      <td>25920.000000</td>\n",
       "      <td>3600.000000</td>\n",
       "      <td>300.000000</td>\n",
       "      <td>45.000000</td>\n",
       "      <td>2.000000</td>\n",
       "      <td>89.000000</td>\n",
       "      <td>1.120437</td>\n",
       "    </tr>\n",
       "  </tbody>\n",
       "</table>\n",
       "</div>"
      ],
      "text/plain": [
       "              team  targeted_productivity          smv           wip  \\\n",
       "count  1197.000000            1197.000000  1197.000000   1197.000000   \n",
       "mean      6.426901               0.729632    15.062172   1190.465991   \n",
       "std       3.463963               0.097891    10.943219   1395.647261   \n",
       "min       1.000000               0.070000     2.900000      7.000000   \n",
       "25%       3.000000               0.700000     3.940000    970.000000   \n",
       "50%       6.000000               0.750000    15.260000   1190.465991   \n",
       "75%       9.000000               0.800000    24.260000   1190.465991   \n",
       "max      12.000000               0.800000    54.560000  23122.000000   \n",
       "\n",
       "          over_time    incentive    idle_time     idle_men  \\\n",
       "count   1197.000000  1197.000000  1197.000000  1197.000000   \n",
       "mean    4567.460317    38.210526     0.730159     0.369256   \n",
       "std     3348.823563   160.182643    12.709757     3.268987   \n",
       "min        0.000000     0.000000     0.000000     0.000000   \n",
       "25%     1440.000000     0.000000     0.000000     0.000000   \n",
       "50%     3960.000000     0.000000     0.000000     0.000000   \n",
       "75%     6960.000000    50.000000     0.000000     0.000000   \n",
       "max    25920.000000  3600.000000   300.000000    45.000000   \n",
       "\n",
       "       no_of_style_change  no_of_workers  actual_productivity  \n",
       "count         1197.000000    1197.000000          1197.000000  \n",
       "mean             0.150376      34.609858             0.735091  \n",
       "std              0.427848      22.197687             0.174488  \n",
       "min              0.000000       2.000000             0.233705  \n",
       "25%              0.000000       9.000000             0.650307  \n",
       "50%              0.000000      34.000000             0.773333  \n",
       "75%              0.000000      57.000000             0.850253  \n",
       "max              2.000000      89.000000             1.120437  "
      ]
     },
     "execution_count": 7,
     "metadata": {},
     "output_type": "execute_result"
    }
   ],
   "source": [
    "#Mirar los nuevos datos\n",
    "datos.describe()"
   ]
  },
  {
   "cell_type": "code",
   "execution_count": 14,
   "metadata": {},
   "outputs": [
    {
     "name": "stdout",
     "output_type": "stream",
     "text": [
      "Valores atípicos en la columna 'over_time':\n",
      "         date   quarter department       day  team  targeted_productivity  \\\n",
      "146  1/8/2015  Quarter2     sweing  Thursday    11                   0.35   \n",
      "\n",
      "       smv    wip  over_time  incentive  idle_time  idle_men  \\\n",
      "146  12.52  287.0      25920         38        0.0         0   \n",
      "\n",
      "     no_of_style_change  no_of_workers  actual_productivity  \n",
      "146                   0           54.0             0.349951  \n"
     ]
    },
    {
     "name": "stderr",
     "output_type": "stream",
     "text": [
      "C:\\Users\\LORE\\AppData\\Local\\Temp\\ipykernel_11540\\972309527.py:19: FutureWarning: Setting an item of incompatible dtype is deprecated and will raise an error in a future version of pandas. Value '4567.460317460317' has dtype incompatible with int64, please explicitly cast to a compatible dtype first.\n",
      "  datos.loc[146, \"over_time\"] = media_over_time\n"
     ]
    }
   ],
   "source": [
    "#Mirar que actual_productivity no tenga valores mayores a 1 y si los tiene que tomen valor de 1 \n",
    "datos[\"actual_productivity\"]=datos[\"actual_productivity\"].clip(upper=1)\n",
    "#Mirar over time los valores atipicos por las graficas que hicimos antes \n",
    "Q1 = datos[\"over_time\"].quantile(0.25)\n",
    "Q3 = datos[\"over_time\"].quantile(0.75)\n",
    "IQR = Q3 - Q1\n",
    "lower_bound = Q1 - 1.5 * IQR\n",
    "upper_bound = Q3 + 1.5 * IQR\n",
    "\n",
    "# Identificar valores atípicos\n",
    "valores_atipicos = (datos['over_time'] < lower_bound) | (datos['over_time'] > upper_bound)\n",
    "\n",
    "# Mostrar los valores atípicos\n",
    "print(\"Valores atípicos en la columna 'over_time':\")\n",
    "print(datos[valores_atipicos])\n",
    "\n",
    "#Cambiar el valor atipico por la media de la columna \n",
    "media_over_time = datos[\"over_time\"].mean()\n",
    "datos.loc[146, \"over_time\"] = media_over_time"
   ]
  },
  {
   "cell_type": "code",
   "execution_count": null,
   "metadata": {},
   "outputs": [],
   "source": [
    "#Guardar los nuevos datos en un archivo excel \n",
    "data= \"data nuevo.xlsx\"\n",
    "datos.to_excel(data, index=False)"
   ]
  }
 ],
 "metadata": {
  "kernelspec": {
   "display_name": "Python 3",
   "language": "python",
   "name": "python3"
  },
  "language_info": {
   "codemirror_mode": {
    "name": "ipython",
    "version": 3
   },
   "file_extension": ".py",
   "mimetype": "text/x-python",
   "name": "python",
   "nbconvert_exporter": "python",
   "pygments_lexer": "ipython3",
   "version": "3.11.7"
  }
 },
 "nbformat": 4,
 "nbformat_minor": 2
}
