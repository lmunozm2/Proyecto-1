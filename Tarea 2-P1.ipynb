{
 "cells": [
  {
   "cell_type": "code",
   "execution_count": 12,
   "metadata": {},
   "outputs": [
    {
     "name": "stdout",
     "output_type": "stream",
     "text": [
      "<bound method NDFrame.head of            date   quarter  department        day  team  targeted_productivity  \\\n",
      "0      1/1/2015  Quarter1      sweing   Thursday     8                   0.80   \n",
      "1      1/1/2015  Quarter1  finishing    Thursday     1                   0.75   \n",
      "2      1/1/2015  Quarter1      sweing   Thursday    11                   0.80   \n",
      "3      1/1/2015  Quarter1      sweing   Thursday    12                   0.80   \n",
      "4      1/1/2015  Quarter1      sweing   Thursday     6                   0.80   \n",
      "...         ...       ...         ...        ...   ...                    ...   \n",
      "1192  3/11/2015  Quarter2   finishing  Wednesday    10                   0.75   \n",
      "1193  3/11/2015  Quarter2   finishing  Wednesday     8                   0.70   \n",
      "1194  3/11/2015  Quarter2   finishing  Wednesday     7                   0.65   \n",
      "1195  3/11/2015  Quarter2   finishing  Wednesday     9                   0.75   \n",
      "1196  3/11/2015  Quarter2   finishing  Wednesday     6                   0.70   \n",
      "\n",
      "        smv     wip  over_time  incentive  idle_time  idle_men  \\\n",
      "0     26.16  1108.0       7080         98        0.0         0   \n",
      "1      3.94     NaN        960          0        0.0         0   \n",
      "2     11.41   968.0       3660         50        0.0         0   \n",
      "3     11.41   968.0       3660         50        0.0         0   \n",
      "4     25.90  1170.0       1920         50        0.0         0   \n",
      "...     ...     ...        ...        ...        ...       ...   \n",
      "1192   2.90     NaN        960          0        0.0         0   \n",
      "1193   3.90     NaN        960          0        0.0         0   \n",
      "1194   3.90     NaN        960          0        0.0         0   \n",
      "1195   2.90     NaN       1800          0        0.0         0   \n",
      "1196   2.90     NaN        720          0        0.0         0   \n",
      "\n",
      "      no_of_style_change  no_of_workers  actual_productivity  \n",
      "0                      0           59.0             0.940725  \n",
      "1                      0            8.0             0.886500  \n",
      "2                      0           30.5             0.800570  \n",
      "3                      0           30.5             0.800570  \n",
      "4                      0           56.0             0.800382  \n",
      "...                  ...            ...                  ...  \n",
      "1192                   0            8.0             0.628333  \n",
      "1193                   0            8.0             0.625625  \n",
      "1194                   0            8.0             0.625625  \n",
      "1195                   0           15.0             0.505889  \n",
      "1196                   0            6.0             0.394722  \n",
      "\n",
      "[1197 rows x 15 columns]>\n"
     ]
    }
   ],
   "source": [
    "import pandas as pd\n",
    "datos = pd.read_csv(\"C:/Users/LORE/Downloads/data.txt\", delimiter=\",\")\n",
    "print(datos.head)"
   ]
  },
  {
   "cell_type": "code",
   "execution_count": 13,
   "metadata": {},
   "outputs": [
    {
     "name": "stdout",
     "output_type": "stream",
     "text": [
      "<class 'pandas.core.frame.DataFrame'>\n",
      "RangeIndex: 1197 entries, 0 to 1196\n",
      "Data columns (total 15 columns):\n",
      " #   Column                 Non-Null Count  Dtype  \n",
      "---  ------                 --------------  -----  \n",
      " 0   date                   1197 non-null   object \n",
      " 1   quarter                1197 non-null   object \n",
      " 2   department             1197 non-null   object \n",
      " 3   day                    1197 non-null   object \n",
      " 4   team                   1197 non-null   int64  \n",
      " 5   targeted_productivity  1197 non-null   float64\n",
      " 6   smv                    1197 non-null   float64\n",
      " 7   wip                    691 non-null    float64\n",
      " 8   over_time              1197 non-null   int64  \n",
      " 9   incentive              1197 non-null   int64  \n",
      " 10  idle_time              1197 non-null   float64\n",
      " 11  idle_men               1197 non-null   int64  \n",
      " 12  no_of_style_change     1197 non-null   int64  \n",
      " 13  no_of_workers          1197 non-null   float64\n",
      " 14  actual_productivity    1197 non-null   float64\n",
      "dtypes: float64(6), int64(5), object(4)\n",
      "memory usage: 140.4+ KB\n",
      "None\n",
      "              team  targeted_productivity          smv           wip  \\\n",
      "count  1197.000000            1197.000000  1197.000000    691.000000   \n",
      "mean      6.426901               0.729632    15.062172   1190.465991   \n",
      "std       3.463963               0.097891    10.943219   1837.455001   \n",
      "min       1.000000               0.070000     2.900000      7.000000   \n",
      "25%       3.000000               0.700000     3.940000    774.500000   \n",
      "50%       6.000000               0.750000    15.260000   1039.000000   \n",
      "75%       9.000000               0.800000    24.260000   1252.500000   \n",
      "max      12.000000               0.800000    54.560000  23122.000000   \n",
      "\n",
      "          over_time    incentive    idle_time     idle_men  \\\n",
      "count   1197.000000  1197.000000  1197.000000  1197.000000   \n",
      "mean    4567.460317    38.210526     0.730159     0.369256   \n",
      "std     3348.823563   160.182643    12.709757     3.268987   \n",
      "min        0.000000     0.000000     0.000000     0.000000   \n",
      "25%     1440.000000     0.000000     0.000000     0.000000   \n",
      "50%     3960.000000     0.000000     0.000000     0.000000   \n",
      "75%     6960.000000    50.000000     0.000000     0.000000   \n",
      "max    25920.000000  3600.000000   300.000000    45.000000   \n",
      "\n",
      "       no_of_style_change  no_of_workers  actual_productivity  \n",
      "count         1197.000000    1197.000000          1197.000000  \n",
      "mean             0.150376      34.609858             0.735091  \n",
      "std              0.427848      22.197687             0.174488  \n",
      "min              0.000000       2.000000             0.233705  \n",
      "25%              0.000000       9.000000             0.650307  \n",
      "50%              0.000000      34.000000             0.773333  \n",
      "75%              0.000000      57.000000             0.850253  \n",
      "max              2.000000      89.000000             1.120437  \n"
     ]
    }
   ],
   "source": [
    "#Información general \n",
    "print(datos.info())\n",
    "#Estadisticas\n",
    "print(datos.describe())"
   ]
  },
  {
   "cell_type": "code",
   "execution_count": 14,
   "metadata": {},
   "outputs": [
    {
     "name": "stdout",
     "output_type": "stream",
     "text": [
      "Valores falntes 0\n",
      "date                        0\n",
      "quarter                     0\n",
      "department                  0\n",
      "day                         0\n",
      "team                        0\n",
      "targeted_productivity       0\n",
      "smv                         0\n",
      "wip                         0\n",
      "over_time                  31\n",
      "incentive                 604\n",
      "idle_time                1179\n",
      "idle_men                 1179\n",
      "no_of_style_change       1050\n",
      "no_of_workers               0\n",
      "actual_productivity         0\n",
      "dtype: int64\n",
      "Valores falntes NaN\n",
      "date                       0\n",
      "quarter                    0\n",
      "department                 0\n",
      "day                        0\n",
      "team                       0\n",
      "targeted_productivity      0\n",
      "smv                        0\n",
      "wip                      506\n",
      "over_time                  0\n",
      "incentive                  0\n",
      "idle_time                  0\n",
      "idle_men                   0\n",
      "no_of_style_change         0\n",
      "no_of_workers              0\n",
      "actual_productivity        0\n",
      "dtype: int64\n"
     ]
    }
   ],
   "source": [
    "#Mirar los valores faltantes que tiene 0\n",
    "valoresfaltantes0=(datos==0).sum()\n",
    "print(\"Valores falntes 0\")\n",
    "print(valoresfaltantes0)\n",
    "#Mirar los valores faltantes que no tiene nada\n",
    "valoresfaltantesN=datos.isnull().sum()\n",
    "print(\"Valores falntes NaN\")\n",
    "print(valoresfaltantesN)"
   ]
  },
  {
   "cell_type": "code",
   "execution_count": 20,
   "metadata": {},
   "outputs": [
    {
     "name": "stdout",
     "output_type": "stream",
     "text": [
      "           date   quarter  department        day  team  targeted_productivity  \\\n",
      "0      1/1/2015  Quarter1      sweing   Thursday     8                   0.80   \n",
      "1      1/1/2015  Quarter1  finishing    Thursday     1                   0.75   \n",
      "2      1/1/2015  Quarter1      sweing   Thursday    11                   0.80   \n",
      "3      1/1/2015  Quarter1      sweing   Thursday    12                   0.80   \n",
      "4      1/1/2015  Quarter1      sweing   Thursday     6                   0.80   \n",
      "...         ...       ...         ...        ...   ...                    ...   \n",
      "1192  3/11/2015  Quarter2   finishing  Wednesday    10                   0.75   \n",
      "1193  3/11/2015  Quarter2   finishing  Wednesday     8                   0.70   \n",
      "1194  3/11/2015  Quarter2   finishing  Wednesday     7                   0.65   \n",
      "1195  3/11/2015  Quarter2   finishing  Wednesday     9                   0.75   \n",
      "1196  3/11/2015  Quarter2   finishing  Wednesday     6                   0.70   \n",
      "\n",
      "        smv          wip  over_time  incentive  idle_time   idle_men  \\\n",
      "0     26.16  1108.000000     7080.0  98.000000  48.555556  24.555556   \n",
      "1      3.94  1190.465991      960.0  77.129848  48.555556  24.555556   \n",
      "2     11.41   968.000000     3660.0  50.000000  48.555556  24.555556   \n",
      "3     11.41   968.000000     3660.0  50.000000  48.555556  24.555556   \n",
      "4     25.90  1170.000000     1920.0  50.000000  48.555556  24.555556   \n",
      "...     ...          ...        ...        ...        ...        ...   \n",
      "1192   2.90  1190.465991      960.0  77.129848  48.555556  24.555556   \n",
      "1193   3.90  1190.465991      960.0  77.129848  48.555556  24.555556   \n",
      "1194   3.90  1190.465991      960.0  77.129848  48.555556  24.555556   \n",
      "1195   2.90  1190.465991     1800.0  77.129848  48.555556  24.555556   \n",
      "1196   2.90  1190.465991      720.0  77.129848  48.555556  24.555556   \n",
      "\n",
      "      no_of_style_change  no_of_workers  actual_productivity  \n",
      "0                1.22449           59.0             0.940725  \n",
      "1                1.22449            8.0             0.886500  \n",
      "2                1.22449           30.5             0.800570  \n",
      "3                1.22449           30.5             0.800570  \n",
      "4                1.22449           56.0             0.800382  \n",
      "...                  ...            ...                  ...  \n",
      "1192             1.22449            8.0             0.628333  \n",
      "1193             1.22449            8.0             0.625625  \n",
      "1194             1.22449            8.0             0.625625  \n",
      "1195             1.22449           15.0             0.505889  \n",
      "1196             1.22449            6.0             0.394722  \n",
      "\n",
      "[1197 rows x 15 columns]\n"
     ]
    },
    {
     "name": "stderr",
     "output_type": "stream",
     "text": [
      "C:\\Users\\LORE\\AppData\\Local\\Temp\\ipykernel_22164\\1819885145.py:6: FutureWarning: Downcasting object dtype arrays on .fillna, .ffill, .bfill is deprecated and will change in a future version. Call result.infer_objects(copy=False) instead. To opt-in to the future behavior, set `pd.set_option('future.no_silent_downcasting', True)`\n",
      "  reemplazo=datosNaN.fillna(mediacol)\n"
     ]
    }
   ],
   "source": [
    "#Reemplazar valores por la media de las columnas \n",
    "datosnumericos=datos.select_dtypes(include='number')\n",
    "datos0=datosnumericos.replace(0, pd.NA)\n",
    "datosNaN=datos0.fillna(pd.NA)\n",
    "mediacol=datosNaN.mean()\n",
    "reemplazo=datosNaN.fillna(mediacol)\n",
    "#unir todos los datos \n",
    "colnonum=datos.select_dtypes(exclude='number')\n",
    "datosfinal=pd.concat([colnonum,reemplazo],axis=1)\n",
    "print(datosfinal)"
   ]
  },
  {
   "cell_type": "code",
   "execution_count": 21,
   "metadata": {},
   "outputs": [
    {
     "name": "stdout",
     "output_type": "stream",
     "text": [
      "team                     0\n",
      "targeted_productivity    0\n",
      "smv                      0\n",
      "wip                      0\n",
      "over_time                0\n",
      "incentive                0\n",
      "idle_time                0\n",
      "idle_men                 0\n",
      "no_of_style_change       0\n",
      "no_of_workers            0\n",
      "actual_productivity      0\n",
      "dtype: int64\n"
     ]
    }
   ],
   "source": [
    "#Mirar si se reemplazaron\n",
    "valoresnuevos=(reemplazo==0).sum()\n",
    "print(valoresnuevos)"
   ]
  },
  {
   "cell_type": "code",
   "execution_count": 23,
   "metadata": {},
   "outputs": [],
   "source": [
    "#Guardar los nuevos datos en un archivo excel \n",
    "data= \"C:/Users/LORE/Downloads/data nuevo.xlsx\"\n",
    "datosfinal.to_excel(data, index=False)"
   ]
  }
 ],
 "metadata": {
  "kernelspec": {
   "display_name": "Python 3",
   "language": "python",
   "name": "python3"
  },
  "language_info": {
   "codemirror_mode": {
    "name": "ipython",
    "version": 3
   },
   "file_extension": ".py",
   "mimetype": "text/x-python",
   "name": "python",
   "nbconvert_exporter": "python",
   "pygments_lexer": "ipython3",
   "version": "3.11.7"
  }
 },
 "nbformat": 4,
 "nbformat_minor": 2
}
